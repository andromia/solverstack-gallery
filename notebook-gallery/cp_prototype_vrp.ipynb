{
 "cells": [
  {
   "cell_type": "code",
   "execution_count": null,
   "metadata": {
    "scrolled": true
   },
   "outputs": [],
   "source": [
    "# TODO: use scripts.create_vrp_data\n",
    "# sys.path.append('../') failing\n",
    "import pandas as pd\n",
    "import numpy as np\n",
    "from json import loads\n",
    "\n",
    "import os\n",
    "\n",
    "ROOT = os.path.dirname(os.path.abspath(''))\n",
    "\n",
    "def check_data(data, name:str):\n",
    "    \"\"\"\n",
    "    Print len of data.\n",
    "    \n",
    "    :data:       pandas dataframe or list-like\n",
    "    :name:       str of name for data\n",
    "    \n",
    "    returns null\n",
    "    \"\"\"\n",
    "    print(f'{name}: {len(data)}')\n",
    "\n",
    "origins = pd.read_csv(os.path.join(ROOT, 'data', 'vrp_testing_origins.csv'))\n",
    "origins = loads(origins.to_json(orient='records'))\n",
    "check_data(origins, 'origins')\n",
    "\n",
    "demand = pd.read_csv(os.path.join(ROOT, 'data', 'vrp_testing_data.csv'))\n",
    "demand['cluster'] = np.random.randint(6, size=len(demand))\n",
    "demand['vehicle_id'] = np.random.randint(len(demand), size=len(demand))\n",
    "demand = loads(demand.to_json(orient='records'))\n",
    "check_data(demand, 'demand')"
   ]
  }
 ],
 "metadata": {
  "kernelspec": {
   "display_name": "Python 3",
   "language": "python",
   "name": "python3"
  },
  "language_info": {
   "codemirror_mode": {
    "name": "ipython",
    "version": 3
   },
   "file_extension": ".py",
   "mimetype": "text/x-python",
   "name": "python",
   "nbconvert_exporter": "python",
   "pygments_lexer": "ipython3",
   "version": "3.7.3"
  }
 },
 "nbformat": 4,
 "nbformat_minor": 2
}
